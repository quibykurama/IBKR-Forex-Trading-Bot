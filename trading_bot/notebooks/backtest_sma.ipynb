{
 "cells": [
  {
   "cell_type": "code",
   "execution_count": null,
   "metadata": {
    "vscode": {
     "languageId": "plaintext"
    }
   },
   "outputs": [],
   "source": [
    "import pandas as pd\n",
    "import matplotlib.pyplot as plt\n",
    "from strategies.sma_cross import SMACrossStrategy\n",
    "\n",
    "# Load historical data\n",
    "data = pd.read_csv(\"../data/historical_data.csv\")\n",
    "data['timestamp'] = pd.to_datetime(data['timestamp'])\n",
    "data = data.sort_values('timestamp')\n",
    "\n",
    "# Initialize strategy\n",
    "strategy = SMACrossStrategy()\n",
    "\n",
    "# Apply strategy\n",
    "signals = []\n",
    "for i in range(len(data)):\n",
    "    signal = strategy.generate_signal(data.iloc[:i+1])\n",
    "    signals.append(signal)\n",
    "data['signal'] = signals\n",
    "\n",
    "# Plot results\n",
    "plt.figure(figsize=(12, 6))\n",
    "plt.plot(data['timestamp'], data['close'], label='Price', color='black')\n",
    "plt.scatter(data[data['signal'].apply(lambda x: x and x['action'] == 'BUY')]['timestamp'], \n",
    "            data[data['signal'].apply(lambda x: x and x['action'] == 'BUY')]['close'], \n",
    "            label='Buy Signal', color='green', marker='^', alpha=1)\n",
    "plt.scatter(data[data['signal'].apply(lambda x: x and x['action'] == 'SELL')]['timestamp'], \n",
    "            data[data['signal'].apply(lambda x: x and x['action'] == 'SELL')]['close'], \n",
    "            label='Sell Signal', color='red', marker='v', alpha=1)\n",
    "plt.legend()\n",
    "plt.title(\"SMA Strategy Backtest\")\n",
    "plt.xlabel(\"Time\")\n",
    "plt.ylabel(\"Price\")\n",
    "plt.grid()\n",
    "plt.show()\n"
   ]
  }
 ],
 "metadata": {
  "language_info": {
   "name": "python"
  }
 },
 "nbformat": 4,
 "nbformat_minor": 2
}
